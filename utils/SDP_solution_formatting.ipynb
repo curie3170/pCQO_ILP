{
 "cells": [
  {
   "cell_type": "code",
   "execution_count": null,
   "metadata": {},
   "outputs": [],
   "source": [
    "import pickle\n",
    "\n",
    "solutions = {}\n",
    "\n",
    "results = pickle.load(open(\"./solutions/SDP/SDP_Generation_500\", \"rb\"))\n",
    "\n",
    "print(results)\n",
    "\n",
    "for result in results:\n",
    "    solutions[result[\"graph_name\"]] = result\n",
    "\n",
    "\n",
    "def save_gpickle(file_path, python_object):\n",
    "    with open(file_path, 'wb') as file:\n",
    "        pickle.dump(python_object, file)\n",
    "\n",
    "save_gpickle('./solutions/SDP/SDP_Generation_SATLIB', solutions)"
   ]
  }
 ],
 "metadata": {
  "kernelspec": {
   "display_name": ".venv",
   "language": "python",
   "name": "python3"
  },
  "language_info": {
   "codemirror_mode": {
    "name": "ipython",
    "version": 3
   },
   "file_extension": ".py",
   "mimetype": "text/x-python",
   "name": "python",
   "nbconvert_exporter": "python",
   "pygments_lexer": "ipython3",
   "version": "3.10.12"
  }
 },
 "nbformat": 4,
 "nbformat_minor": 2
}
